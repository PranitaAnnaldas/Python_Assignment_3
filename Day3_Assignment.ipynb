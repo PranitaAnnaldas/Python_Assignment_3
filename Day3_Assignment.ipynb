{
 "cells": [
  {
   "cell_type": "code",
   "execution_count": 30,
   "metadata": {},
   "outputs": [],
   "source": [
    "import numpy as np\n",
    "import pandas as pd\n",
    "import time"
   ]
  },
  {
   "cell_type": "code",
   "execution_count": 31,
   "metadata": {},
   "outputs": [
    {
     "name": "stdout",
     "output_type": "stream",
     "text": [
      "[0.51187222 0.36783321 0.88956598 ... 0.73847733 0.00475086 0.91530007]\n",
      "Time taken without numpy:  12.210612773895264\n",
      "Time taken with numpy:  0.1438462734222412\n"
     ]
    }
   ],
   "source": [
    "num = np.random.rand(100000000)\n",
    "print(num)\n",
    "# Time it takes to execute without numpy\n",
    "start_time = time.time()\n",
    "add = sum(num)\n",
    "print(\"Time taken without numpy: \", time.time() - start_time)\n",
    "# Time it takes to execute with numpy\n",
    "start_time = time.time()\n",
    "add = np.sum(num)\n",
    "print(\"Time taken with numpy: \", time.time() - start_time)"
   ]
  },
  {
   "cell_type": "code",
   "execution_count": 32,
   "metadata": {},
   "outputs": [
    {
     "name": "stdout",
     "output_type": "stream",
     "text": [
      "[[0.78972363 0.13720438 0.44302928 ... 0.20188722 0.6857853  0.44372373]\n",
      " [0.83170057 0.98422644 0.31201825 ... 0.27741046 0.93582189 0.28430396]\n",
      " [0.10710653 0.5360051  0.21281823 ... 0.50004524 0.15845825 0.49387566]\n",
      " ...\n",
      " [0.83954156 0.66742804 0.16384124 ... 0.46486738 0.09268335 0.13993505]\n",
      " [0.70229485 0.13511559 0.95072101 ... 0.08566698 0.45684561 0.5777196 ]\n",
      " [0.79941315 0.05184801 0.11005337 ... 0.85031143 0.19465032 0.01827641]]\n",
      "[[0.78972363 0.83170057 0.10710653 ... 0.83954156 0.70229485 0.79941315]\n",
      " [0.13720438 0.98422644 0.5360051  ... 0.66742804 0.13511559 0.05184801]\n",
      " [0.44302928 0.31201825 0.21281823 ... 0.16384124 0.95072101 0.11005337]\n",
      " ...\n",
      " [0.20188722 0.27741046 0.50004524 ... 0.46486738 0.08566698 0.85031143]\n",
      " [0.6857853  0.93582189 0.15845825 ... 0.09268335 0.45684561 0.19465032]\n",
      " [0.44372373 0.28430396 0.49387566 ... 0.13993505 0.5777196  0.01827641]]\n"
     ]
    }
   ],
   "source": [
    "# Generate a matrix of (10000, 10000)\n",
    "matrix = np.random.rand(10000, 10000)\n",
    "print(matrix)\n",
    "# Transpose the matrix\n",
    "matrix = np.transpose(matrix)\n",
    "print(matrix)"
   ]
  },
  {
   "cell_type": "code",
   "execution_count": 33,
   "metadata": {},
   "outputs": [
    {
     "name": "stdout",
     "output_type": "stream",
     "text": [
      "  Invoice StockCode                          Description  Quantity  \\\n",
      "0  489434     85048  15CM CHRISTMAS GLASS BALL 20 LIGHTS        12   \n",
      "1  489434    79323P                   PINK CHERRY LIGHTS        12   \n",
      "2  489434    79323W                  WHITE CHERRY LIGHTS        12   \n",
      "3  489434     22041         RECORD FRAME 7\" SINGLE SIZE         48   \n",
      "4  489434     21232       STRAWBERRY CERAMIC TRINKET BOX        24   \n",
      "\n",
      "        InvoiceDate  Price  Customer ID         Country  \n",
      "0  01-12-2009 07:45   6.95      13085.0  United Kingdom  \n",
      "1  01-12-2009 07:45   6.75      13085.0  United Kingdom  \n",
      "2  01-12-2009 07:45   6.75      13085.0  United Kingdom  \n",
      "3  01-12-2009 07:45   2.10      13085.0  United Kingdom  \n",
      "4  01-12-2009 07:45   1.25      13085.0  United Kingdom  \n"
     ]
    }
   ],
   "source": [
    "df = pd.read_csv(\"online_retail.csv\")\n",
    "print(df.head())"
   ]
  },
  {
   "cell_type": "code",
   "execution_count": 34,
   "metadata": {},
   "outputs": [
    {
     "name": "stdout",
     "output_type": "stream",
     "text": [
      "Invoice             0\n",
      "StockCode           0\n",
      "Description      2723\n",
      "Quantity            0\n",
      "InvoiceDate         0\n",
      "Price               0\n",
      "Customer ID    110775\n",
      "Country             0\n",
      "dtype: int64\n"
     ]
    }
   ],
   "source": [
    "# Check for missing values\n",
    "print(df.isnull().sum())"
   ]
  },
  {
   "cell_type": "code",
   "execution_count": 36,
   "metadata": {},
   "outputs": [],
   "source": [
    "# For 'Description', let's fill missing values with 'Unknown'\n",
    "df['Description'] = df['Description'].fillna('Unknown')"
   ]
  },
  {
   "cell_type": "code",
   "execution_count": 37,
   "metadata": {},
   "outputs": [],
   "source": [
    "# For 'CustomerID', we can fill missing values with a placeholder, such as 0\n",
    "df['Customer ID'] = df['Customer ID'].fillna(0)"
   ]
  },
  {
   "cell_type": "code",
   "execution_count": 38,
   "metadata": {},
   "outputs": [
    {
     "name": "stdout",
     "output_type": "stream",
     "text": [
      "Invoice        0\n",
      "StockCode      0\n",
      "Description    0\n",
      "Quantity       0\n",
      "InvoiceDate    0\n",
      "Price          0\n",
      "Customer ID    0\n",
      "Country        0\n",
      "dtype: int64\n"
     ]
    }
   ],
   "source": [
    "# Check for missing values\n",
    "print(df.isnull().sum())"
   ]
  },
  {
   "cell_type": "code",
   "execution_count": 39,
   "metadata": {},
   "outputs": [
    {
     "name": "stdout",
     "output_type": "stream",
     "text": [
      "            Quantity          Price    Customer ID\n",
      "count  437885.000000  437885.000000  437885.000000\n",
      "mean       10.063069       4.955867   11436.712984\n",
      "std       184.048278     128.396016    6815.234178\n",
      "min    -74215.000000  -53594.360000       0.000000\n",
      "25%         1.000000       1.250000       0.000000\n",
      "50%         3.000000       2.100000   14396.000000\n",
      "75%        10.000000       4.250000   16253.000000\n",
      "max     74215.000000   25111.090000   18287.000000\n"
     ]
    }
   ],
   "source": [
    "\"\"\"Process any missing values. Create descriptive statistics. (Use of numpy)\"\"\"\n",
    "descriptive_stats = df.describe()\n",
    "print(descriptive_stats)"
   ]
  },
  {
   "cell_type": "code",
   "execution_count": 40,
   "metadata": {},
   "outputs": [],
   "source": [
    "import matplotlib.pyplot as plt"
   ]
  },
  {
   "cell_type": "code",
   "execution_count": 41,
   "metadata": {},
   "outputs": [
    {
     "data": {
      "text/html": [
       "<div>\n",
       "<style scoped>\n",
       "    .dataframe tbody tr th:only-of-type {\n",
       "        vertical-align: middle;\n",
       "    }\n",
       "\n",
       "    .dataframe tbody tr th {\n",
       "        vertical-align: top;\n",
       "    }\n",
       "\n",
       "    .dataframe thead th {\n",
       "        text-align: right;\n",
       "    }\n",
       "</style>\n",
       "<table border=\"1\" class=\"dataframe\">\n",
       "  <thead>\n",
       "    <tr style=\"text-align: right;\">\n",
       "      <th></th>\n",
       "      <th>Invoice</th>\n",
       "      <th>StockCode</th>\n",
       "      <th>Description</th>\n",
       "      <th>Quantity</th>\n",
       "      <th>InvoiceDate</th>\n",
       "      <th>Price</th>\n",
       "      <th>Customer ID</th>\n",
       "      <th>Country</th>\n",
       "    </tr>\n",
       "  </thead>\n",
       "  <tbody>\n",
       "    <tr>\n",
       "      <th>0</th>\n",
       "      <td>489434</td>\n",
       "      <td>85048</td>\n",
       "      <td>15CM CHRISTMAS GLASS BALL 20 LIGHTS</td>\n",
       "      <td>12</td>\n",
       "      <td>01-12-2009 07:45</td>\n",
       "      <td>6.95</td>\n",
       "      <td>13085.0</td>\n",
       "      <td>United Kingdom</td>\n",
       "    </tr>\n",
       "    <tr>\n",
       "      <th>1</th>\n",
       "      <td>489434</td>\n",
       "      <td>79323P</td>\n",
       "      <td>PINK CHERRY LIGHTS</td>\n",
       "      <td>12</td>\n",
       "      <td>01-12-2009 07:45</td>\n",
       "      <td>6.75</td>\n",
       "      <td>13085.0</td>\n",
       "      <td>United Kingdom</td>\n",
       "    </tr>\n",
       "    <tr>\n",
       "      <th>2</th>\n",
       "      <td>489434</td>\n",
       "      <td>79323W</td>\n",
       "      <td>WHITE CHERRY LIGHTS</td>\n",
       "      <td>12</td>\n",
       "      <td>01-12-2009 07:45</td>\n",
       "      <td>6.75</td>\n",
       "      <td>13085.0</td>\n",
       "      <td>United Kingdom</td>\n",
       "    </tr>\n",
       "    <tr>\n",
       "      <th>3</th>\n",
       "      <td>489434</td>\n",
       "      <td>22041</td>\n",
       "      <td>RECORD FRAME 7\" SINGLE SIZE</td>\n",
       "      <td>48</td>\n",
       "      <td>01-12-2009 07:45</td>\n",
       "      <td>2.10</td>\n",
       "      <td>13085.0</td>\n",
       "      <td>United Kingdom</td>\n",
       "    </tr>\n",
       "    <tr>\n",
       "      <th>4</th>\n",
       "      <td>489434</td>\n",
       "      <td>21232</td>\n",
       "      <td>STRAWBERRY CERAMIC TRINKET BOX</td>\n",
       "      <td>24</td>\n",
       "      <td>01-12-2009 07:45</td>\n",
       "      <td>1.25</td>\n",
       "      <td>13085.0</td>\n",
       "      <td>United Kingdom</td>\n",
       "    </tr>\n",
       "  </tbody>\n",
       "</table>\n",
       "</div>"
      ],
      "text/plain": [
       "  Invoice StockCode                          Description  Quantity  \\\n",
       "0  489434     85048  15CM CHRISTMAS GLASS BALL 20 LIGHTS        12   \n",
       "1  489434    79323P                   PINK CHERRY LIGHTS        12   \n",
       "2  489434    79323W                  WHITE CHERRY LIGHTS        12   \n",
       "3  489434     22041         RECORD FRAME 7\" SINGLE SIZE         48   \n",
       "4  489434     21232       STRAWBERRY CERAMIC TRINKET BOX        24   \n",
       "\n",
       "        InvoiceDate  Price  Customer ID         Country  \n",
       "0  01-12-2009 07:45   6.95      13085.0  United Kingdom  \n",
       "1  01-12-2009 07:45   6.75      13085.0  United Kingdom  \n",
       "2  01-12-2009 07:45   6.75      13085.0  United Kingdom  \n",
       "3  01-12-2009 07:45   2.10      13085.0  United Kingdom  \n",
       "4  01-12-2009 07:45   1.25      13085.0  United Kingdom  "
      ]
     },
     "execution_count": 41,
     "metadata": {},
     "output_type": "execute_result"
    }
   ],
   "source": [
    "df.head()"
   ]
  },
  {
   "cell_type": "code",
   "execution_count": 42,
   "metadata": {},
   "outputs": [
    {
     "name": "stdout",
     "output_type": "stream",
     "text": [
      "Index(['Invoice', 'StockCode', 'Description', 'Quantity', 'InvoiceDate',\n",
      "       'Price', 'Customer ID', 'Country'],\n",
      "      dtype='object')\n"
     ]
    }
   ],
   "source": [
    "# Check the column names\n",
    "print(df.columns)"
   ]
  },
  {
   "cell_type": "code",
   "execution_count": 43,
   "metadata": {},
   "outputs": [],
   "source": [
    "\n",
    "# Now try converting 'InvoiceDate' to datetime\n",
    "df['InvoiceDate'] = pd.to_datetime(df['InvoiceDate'], format='%d-%m-%Y %H:%M')"
   ]
  },
  {
   "cell_type": "code",
   "execution_count": 44,
   "metadata": {},
   "outputs": [
    {
     "data": {
      "image/png": "[encoded data removed]",
      "text/plain": [
       "<Figure size 640x480 with 1 Axes>"
      ]
     },
     "metadata": {},
     "output_type": "display_data"
    }
   ],
   "source": [
    "\n",
    "\n",
    "# # Clean up the column names by stripping any leading or trailing whitespace\n",
    "# df.columns = df.columns.str.strip()\n",
    "\n",
    "\n",
    "# Set InvoiceDate as the index and resample by day\n",
    "df.set_index('InvoiceDate', inplace=True)\n",
    "\n",
    "# Plot the time series of UnitPrice\n",
    "df['Price'].resample('D').mean().plot()\n",
    "\n",
    "plt.title('Time Series of Price')\n",
    "plt.ylabel('Unit Price')\n",
    "plt.xlabel('Date')\n",
    "plt.show()\n"
   ]
  },
  {
   "cell_type": "code",
   "execution_count": 45,
   "metadata": {},
   "outputs": [
    {
     "name": "stdout",
     "output_type": "stream",
     "text": [
      "DatetimeIndex(['2009-12-01 07:45:00', '2009-12-01 07:45:00',\n",
      "               '2009-12-01 07:45:00', '2009-12-01 07:45:00',\n",
      "               '2009-12-01 07:45:00', '2009-12-01 07:45:00',\n",
      "               '2009-12-01 07:45:00', '2009-12-01 07:45:00',\n",
      "               '2009-12-01 07:46:00', '2009-12-01 07:46:00',\n",
      "               ...\n",
      "               '2011-05-12 19:39:00', '2011-05-12 19:39:00',\n",
      "               '2011-05-12 19:41:00', '2011-05-12 19:42:00',\n",
      "               '2011-05-12 19:43:00', '2011-05-12 19:43:00',\n",
      "               '2011-05-12 19:43:00', '2011-05-12 19:43:00',\n",
      "               '2011-05-12 19:44:00', '2011-05-12 19:44:00'],\n",
      "              dtype='datetime64[ns]', name='InvoiceDate', length=437885, freq=None)\n"
     ]
    }
   ],
   "source": [
    "print(df.index)\n"
   ]
  },
  {
   "cell_type": "code",
   "execution_count": 46,
   "metadata": {},
   "outputs": [
    {
     "data": {
      "image/png": "[encoded data removed]",
      "text/plain": [
       "<Figure size 1000x600 with 1 Axes>"
      ]
     },
     "metadata": {},
     "output_type": "display_data"
    }
   ],
   "source": [
    "\n",
    "# df['InvoiceDate'] = pd.to_datetime(df['InvoiceDate'], format='%d-%m-%Y %H:%M')\n",
    "\n",
    "df_filtered_2011 = df[(df['Quantity'] < 1000) & (df.index.year == 2011)]\n",
    "\n",
    "# Resample the filtered data by day and plot the average price\n",
    "price_2011_filtered = df_filtered_2011['Price'].resample('D').mean()\n",
    "\n",
    "# Plotting the time series of average price\n",
    "price_2011_filtered.plot(figsize=(10, 6))\n",
    "plt.title(\"Price Over Time for Transactions with Quantity < 1000 in 2011\")\n",
    "plt.xlabel(\"Date\")\n",
    "plt.ylabel(\"Average Price\")\n",
    "plt.show()"
   ]
  },
  {
   "cell_type": "code",
   "execution_count": 47,
   "metadata": {},
   "outputs": [
    {
     "name": "stdout",
     "output_type": "stream",
     "text": [
      "                                    TotalAmount\n",
      "Description                                    \n",
      "DOTCOM POSTAGE                        134128.43\n",
      "WHITE HANGING HEART T-LIGHT HOLDER    130778.09\n",
      "REGENCY CAKESTAND 3 TIER              129622.53\n",
      "PARTY BUNTING                          67155.54\n",
      "ASSORTED COLOUR BIRD ORNAMENT          49346.85\n"
     ]
    },
    {
     "name": "stderr",
     "output_type": "stream",
     "text": [
      "C:\\Users\\PranitaAnnaldas\\AppData\\Local\\Temp\\ipykernel_4172\\1743974967.py:5: FutureWarning: The provided callable <function sum at 0x000001C3584B77E0> is currently using DataFrameGroupBy.sum. In a future version of pandas, the provided callable will be used directly. To keep current behavior pass the string \"sum\" instead.\n",
      "  pivot_table = pd.pivot_table(df, values='TotalAmount', index='Description', aggfunc=np.sum)\n"
     ]
    }
   ],
   "source": [
    "# Calculate the total amount (Quantity * UnitPrice) for each product description\n",
    "df['TotalAmount'] = df['Quantity'] * df['Price']\n",
    "\n",
    "# Create a pivot table to show total amount by product description\n",
    "pivot_table = pd.pivot_table(df, values='TotalAmount', index='Description', aggfunc=np.sum)\n",
    "\n",
    "# Sort the pivot table by TotalAmount in descending order\n",
    "pivot_table_sorted = pivot_table.sort_values(by='TotalAmount', ascending=False)\n",
    "print(pivot_table_sorted.head())\n"
   ]
  },
  {
   "cell_type": "code",
   "execution_count": 48,
   "metadata": {},
   "outputs": [
    {
     "name": "stdout",
     "output_type": "stream",
     "text": [
      "Country         Description\n",
      "United Kingdom  Manual         25111.09\n",
      "Name: Price, dtype: float64\n"
     ]
    }
   ],
   "source": [
    "# Group by country and product description to find the highest unit price\n",
    "highest_price_info = df.groupby(['Country', 'Description'])['Price'].max()\n",
    "\n",
    "# Find the country and product with the highest price\n",
    "highest_price_info_sorted = highest_price_info.sort_values(ascending=False).head(1)\n",
    "print(highest_price_info_sorted)\n"
   ]
  },
  {
   "cell_type": "code",
   "execution_count": 52,
   "metadata": {},
   "outputs": [
    {
     "name": "stdout",
     "output_type": "stream",
     "text": [
      "Description\n",
      "Adjust bad debt                     -53594.36\n",
      " FLAMINGO LIGHTS                         0.00\n",
      "12'S SOLD AS 1?                          0.00\n",
      "17129c                                   0.00\n",
      "4 TRADITIONAL SPINNING TOPS              0.00\n",
      "?                                        0.00\n",
      "?????                                    0.00\n",
      "ADVENT CALENDAR GINGHAM SACK             0.00\n",
      "AIRLINE BAG VINTAGE JET SET BROWN        0.00\n",
      "AIRLINE BAG VINTAGE JET SET RED          0.00\n",
      "Name: Price, dtype: float64\n"
     ]
    }
   ],
   "source": [
    "# Filter data for transactions in 2010\n",
    "df_2010 = df[(df.index.year) == 2010]\n",
    "\n",
    "# Get the top 10 products with the minimum unit price\n",
    "top_10_min_price_2010 = df_2010.groupby('Description')['Price'].min().nsmallest(10)\n",
    "print(top_10_min_price_2010)\n"
   ]
  },
  {
   "cell_type": "code",
   "execution_count": 53,
   "metadata": {},
   "outputs": [],
   "source": [
    "import re"
   ]
  },
  {
   "cell_type": "code",
   "execution_count": 55,
   "metadata": {},
   "outputs": [],
   "source": [
    "data = {\n",
    "    \"Company Name\": [\"ABC Inc.\", \"XYZ Corporation\", \"Tech Solutions Ltd.\", \"Global Services LLC\", \"Innovative Ventures\"],\n",
    "    \"Description\": [\n",
    "        \"Contact us at info@abcinc.com for more information.\",\n",
    "        \"For inquiries, email us at contact@xyzcorp.com.\",\n",
    "        \"Tech Solutions Ltd. provides support via support@techsolutions.com.\",\n",
    "        \"Reach out to us at info@globalservicesllc.net for business inquiries.\",\n",
    "        \"Email us at hello@innovativeventures.org for partnership opportunities.\"\n",
    "    ]\n",
    "}"
   ]
  },
  {
   "cell_type": "code",
   "execution_count": 56,
   "metadata": {},
   "outputs": [],
   "source": [
    "# Create DataFrame\n",
    "df1 = pd.DataFrame(data)"
   ]
  },
  {
   "cell_type": "code",
   "execution_count": 57,
   "metadata": {},
   "outputs": [],
   "source": [
    "def extract_email(text):\n",
    "    # Regular expression to match emails\n",
    "    email_pattern = r'[a-zA-Z0-9._%+-]+@[a-zA-Z0-9.-]+\\.[a-zA-Z]{2,}'\n",
    "    emails = re.findall(email_pattern, text)\n",
    "    return emails[0] if emails else None "
   ]
  },
  {
   "cell_type": "code",
   "execution_count": 58,
   "metadata": {},
   "outputs": [],
   "source": [
    "# Apply the function to the 'Description' column\n",
    "df1['Email'] = df1['Description'].apply(extract_email)"
   ]
  },
  {
   "cell_type": "code",
   "execution_count": 59,
   "metadata": {},
   "outputs": [
    {
     "name": "stdout",
     "output_type": "stream",
     "text": [
      "          Company Name                                        Description  \\\n",
      "0             ABC Inc.  Contact us at info@abcinc.com for more informa...   \n",
      "1      XYZ Corporation    For inquiries, email us at contact@xyzcorp.com.   \n",
      "2  Tech Solutions Ltd.  Tech Solutions Ltd. provides support via suppo...   \n",
      "3  Global Services LLC  Reach out to us at info@globalservicesllc.net ...   \n",
      "4  Innovative Ventures  Email us at hello@innovativeventures.org for p...   \n",
      "\n",
      "                          Email  \n",
      "0               info@abcinc.com  \n",
      "1           contact@xyzcorp.com  \n",
      "2     support@techsolutions.com  \n",
      "3    info@globalservicesllc.net  \n",
      "4  hello@innovativeventures.org  \n"
     ]
    }
   ],
   "source": [
    "# Display the DataFrame with extracted emails\n",
    "print(df1)"
   ]
  },
  {
   "cell_type": "code",
   "execution_count": 60,
   "metadata": {},
   "outputs": [],
   "source": [
    "# Function to count word frequencies\n",
    "def word_frequency(text):\n",
    "    # Convert text to lowercase for case-insensitive matching\n",
    "    text = text.lower()\n",
    "    \n",
    "    # Regex pattern to match words (letters and numbers)\n",
    "    words = re.findall(r'\\b\\w+\\b', text)\n",
    "    \n",
    "    \n",
    "    # Create a dictionary to store the frequency of each word\n",
    "    frequency = {}\n",
    "    \n",
    "    # Count frequency of each word\n",
    "    for word in words:\n",
    "        if word in frequency:\n",
    "            frequency[word] += 1\n",
    "        else:\n",
    "            frequency[word] = 1\n",
    "        \n",
    "    return frequency"
   ]
  },
  {
   "cell_type": "code",
   "execution_count": 61,
   "metadata": {},
   "outputs": [
    {
     "name": "stdout",
     "output_type": "stream",
     "text": [
      "{'hello': 2, 'python': 2, 'is': 1, 'a': 1, 'programming': 1, 'language': 1}\n"
     ]
    }
   ],
   "source": [
    "\n",
    "text = input(\"Enter a text: \")\n",
    "\n",
    "word_freq = word_frequency(text)\n",
    "print(word_freq)"
   ]
  }
 ],
 "metadata": {
  "kernelspec": {
   "display_name": "penv",
   "language": "python",
   "name": "python3"
  },
  "language_info": {
   "codemirror_mode": {
    "name": "ipython",
    "version": 3
   },
   "file_extension": ".py",
   "mimetype": "text/x-python",
   "name": "python",
   "nbconvert_exporter": "python",
   "pygments_lexer": "ipython3",
   "version": "3.11.9"
  }
 },
 "nbformat": 4,
 "nbformat_minor": 2
}
